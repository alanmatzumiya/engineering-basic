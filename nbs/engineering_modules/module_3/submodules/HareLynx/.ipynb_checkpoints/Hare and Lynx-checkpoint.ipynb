{
 "cells": [
  {
   "cell_type": "markdown",
   "metadata": {
    "deletable": true,
    "editable": true,
    "nbpresent": {
     "id": "615a5e20-124d-4dfc-9faf-1d0c86fe0525"
    },
    "slideshow": {
     "slide_type": "slide"
    }
   },
   "source": [
    "# Hare and Lynx\n",
    "\n",
    "### Summary\n",
    "\n",
    "[Snowshoe hare](https://en.wikipedia.org/wiki/Snowshoe_hare) (*Lepus americanus*) are the primary food for the [Canadian lynx](https://en.wikipedia.org/wiki/Canada_lynx) (*Lynx canadensis*) in the Northern boreal forests of North America. When hare are abundant, Lynx will eat about two every three days, almost to the exclusion of any other food. As a consequence, the population dynamics of the two species are closely linked. \n",
    "\n",
    "It has been known for over a century that the populations of the two species vary dramatically in cycles of 8 to 11 year duration. This chart, for example, shows pelt-trading data taken from the Hudson's Bay Company (from MacLulich, 1937.  See important notes on this data in [Stenseth, 1997](http://www.pnas.org/content/94/10/5147.full))\n",
    "\n",
    "![Hare and Lynx Population](MainLynx.jpg)\n",
    "\n",
    "The actual cause of the cycling is, apparently, still a matter of scientific inquiry. Hypotheses include the inherent instability of the preditor-prey dynamics, the dynamics of a more complex food web, and the role of climate (see [Zhang, 2007](http://www.int-res.com/articles/feature/c034p083.pdf)).\n",
    "\n",
    "This notebook presents an analysis of a preditor-prey model of the hare-lynx dynamics that was described by Murray."
   ]
  },
  {
   "cell_type": "markdown",
   "metadata": {
    "deletable": true,
    "editable": true,
    "nbpresent": {
     "id": "c74a83fc-6f9e-40b0-9284-51276d079600"
    },
    "slideshow": {
     "slide_type": "slide"
    }
   },
   "source": [
    "## Population Dynamics\n",
    "\n",
    "### Model Equations\n",
    "\n",
    "The model equatons describe the time rate of change of the population densities of hare ($H$) and lynx ($L$). Each is the difference between the birth and death rate. The death rate of hare is coupled to the population density of lynx. The birth rate of lynx is a simple multiple of the death rate of hare.\n",
    "\n",
    "$$\\begin{align*}\\frac{dH}{dt} & = \\underbrace{rH\\left(1-\\frac{H}{k}\\right)}_{Hare Birth Rate}-\\underbrace{\\frac{aHL}{c+H}}_{Hare Death Rate}\\\\\n",
    "\\frac{dL}{dt} & = \\underbrace{a\\frac{bHL}{c+H}}_{Lynx Birth Rate}-\\underbrace{dL}_{Lynx Death Rate}\n",
    "\\end{align*}$$\n",
    "\n",
    "\n",
    "\n",
    "### Parameter Values\n",
    "\n",
    "$$\\begin{align*}\n",
    "\\frac{dH}{dt} & = r H \\left(1-\\frac{H}{k}\\right) - \\frac{a H L}{c + H} \\\\\n",
    "\\frac{dL}{dt} & = b\\frac{a H L}{c + H} - dL\n",
    "\\end{align*}$$\n",
    "\n",
    "| Parameter | Symbol | Value |\n",
    "| - | :----: | :---: |\n",
    "| Lynx/Hare Predation Rate | $a$ | 3.2 |\n",
    "| Lynx/Hare Conversion | $b$ | 0.6 |\n",
    "| Lynx/Hare Michaelis Constant| $c$ | 50 |\n",
    "| Lynx Death Rate | $d$ | 0.56 |\n",
    "| Hare Carrying Capacity| $k$ | 125 |\n",
    "| Hare Reproduction Rate | $r$ | 1.6 |\n",
    "\n",
    "### Nullclines\n",
    "\n",
    "Nullclines are the points in the phase plane where one or the other of the derivatives is equal to zero. The nullclines for the Hare and Lynx example are, for $\\frac{dH}{dt} = 0$, \n",
    "\n",
    "$$\\frac{dH}{dt} = 0 \\implies \\begin{cases}\n",
    "\\begin{align*}\n",
    "H^* & = 0 \\\\\n",
    "\\\\\n",
    "L^* & = \\frac{r}{a}\\left(c+H\\right)\\left(1-\\frac{H}{k}\\right)\n",
    "\\end{align*}\n",
    "\\end{cases}$$\n",
    "\n",
    "and for $\\frac{dL}{dt} = 0$,\n",
    "\n",
    "$$\\frac{dL}{dt} = 0 \\implies \\begin{cases}\n",
    "\\begin{align*}\n",
    "L^* & = 0 \\\\\n",
    "\\\\\n",
    "H^* & = \\frac{c d}{a b - d}\n",
    "\\end{align*}\n",
    "\\end{cases}$$"
   ]
  },
  {
   "cell_type": "markdown",
   "metadata": {
    "deletable": true,
    "editable": true
   },
   "source": [
    "## Initialization"
   ]
  },
  {
   "cell_type": "code",
   "execution_count": 1,
   "metadata": {
    "collapsed": true,
    "deletable": true,
    "editable": true
   },
   "outputs": [],
   "source": [
    "%matplotlib inline\n",
    "import numpy as np\n",
    "import matplotlib.pyplot as plt\n",
    "from scipy.integrate import odeint"
   ]
  },
  {
   "cell_type": "markdown",
   "metadata": {
    "deletable": true,
    "editable": true
   },
   "source": [
    "## Differential Equations\n",
    "\n",
    "`deriv` is a function that returns values for the derivatives of $H$ and $L$ in the form of a two element list. The first argument is the current state, also a two element list, followed by the current time $t$, and values for all model parameters."
   ]
  },
  {
   "cell_type": "code",
   "execution_count": 5,
   "metadata": {
    "collapsed": true,
    "deletable": true,
    "editable": true
   },
   "outputs": [],
   "source": [
    "# differential equations\n",
    "def deriv(X,t,a,b,c,d,k,r):\n",
    "    H,L = X\n",
    "    Hdot =  r*H*(1-H/k) - a*H*L/(c+H)\n",
    "    Ldot = b*a*H*L/(c+H) - d*L\n",
    "    return [Hdot,Ldot]"
   ]
  },
  {
   "cell_type": "markdown",
   "metadata": {
    "deletable": true,
    "editable": true
   },
   "source": [
    "## Visualization Function\n",
    "\n",
    "The visualization function for this example accepts a list of time values, values of $H$ and $L$, and model parameters. The model parameters are needed to plot nullclines and steady states on the phase plane."
   ]
  },
  {
   "cell_type": "code",
   "execution_count": 6,
   "metadata": {
    "collapsed": false,
    "deletable": true,
    "editable": true
   },
   "outputs": [],
   "source": [
    "# visualization\n",
    "def HLPlot(t,H,L,a,b,c,d,k,r):\n",
    "    # time axis\n",
    "    plt.figure(figsize=(12,5))\n",
    "    plt.subplot(121)\n",
    "    plt.plot(t,H)\n",
    "    plt.plot(t,L)\n",
    "    plt.xlabel('Time [years]')\n",
    "    plt.ylabel('Population Density')\n",
    "    plt.legend(['Hare','Lynx'],loc='upper left')\n",
    "    \n",
    "    # phase plane\n",
    "    plt.subplot(122)\n",
    "    plt.plot(H,L)\n",
    "    plt.xlim(0,130)\n",
    "    plt.ylim(0,130)\n",
    "    plt.title('Hare/Lynx Phase Plane')\n",
    "    plt.xlabel('Hare')\n",
    "    plt.ylabel('Lynx')\n",
    "    \n",
    "    # nullcline dH/dt = 0\n",
    "    Hp = np.linspace(0,k)\n",
    "    Lp = r*(1-Hp/k)*(c+Hp)/a\n",
    "    plt.plot(Hp,Lp)\n",
    "    \n",
    "    # nullcline dL/dt = 0\n",
    "    Hd = c*d/(a*b-d)\n",
    "    plt.plot([Hd,Hd],plt.ylim())\n",
    "    \n",
    "    # steady states\n",
    "    plt.plot(0,0,'r.',ms = 20)\n",
    "    plt.plot(k,0,'r.',ms = 20)\n",
    "    Hss = c*d/(a*b-d)\n",
    "    Lss = r*(1-Hss/k)*(c+Hss)/a\n",
    "    plt.plot(Hss,Lss,'r.',ms=20)"
   ]
  },
  {
   "cell_type": "markdown",
   "metadata": {
    "deletable": true,
    "editable": true
   },
   "source": [
    "## ODE Solver\n",
    "\n",
    "An additional function is created to encapsulate the entire process of solving the model and displaying the solution. The function takes arguments specifing the initial values of $H$ and $L$, and a value of the parameter $a$.  These argument "
   ]
  },
  {
   "cell_type": "code",
   "execution_count": 4,
   "metadata": {
    "collapsed": false,
    "deletable": true,
    "editable": true
   },
   "outputs": [
    {
     "data": {
      "image/png": "[encoded data removed]",
      "text/plain": [
       "<matplotlib.figure.Figure at 0x111d16978>"
      ]
     },
     "metadata": {},
     "output_type": "display_data"
    }
   ],
   "source": [
    "# default parameter values\n",
    "a = 3.2\n",
    "b = 0.6\n",
    "c = 50\n",
    "d = 0.56\n",
    "k = 125\n",
    "r = 1.6\n",
    "\n",
    "# perform simulation\n",
    "t = np.linspace(0,70,500)\n",
    "\n",
    "def LynxHare(H=20,L=20,a=a):\n",
    "    IC = [H,L]\n",
    "    sol = odeint(deriv,IC,t,args=(a,b,c,d,k,r))\n",
    "    HLPlot(t,sol[:,0],sol[:,1],a,b,c,d,k,r)\n",
    "\n",
    "from ipywidgets import interact\n",
    "interact(LynxHare, H = (0,80,1), L =(0,80,1), a=(1.0,4.0,0.01));"
   ]
  },
  {
   "cell_type": "markdown",
   "metadata": {
    "deletable": true,
    "editable": true
   },
   "source": [
    "## Suggested Exercise\n",
    "\n",
    "Explore the impact of the parameter $a$ on the nature of the solution. $a$ is proporational to the success of the Lynx hunting the Hare.  What happens when the value is low?  high?  Can you see the transitions from conditions when the Lynx done't survive, the emergence of a stable coexistence steady-state, and finally the emergence of a stable limit cycle?"
   ]
  },
  {
   "cell_type": "code",
   "execution_count": null,
   "metadata": {
    "collapsed": true,
    "deletable": true,
    "editable": true
   },
   "outputs": [],
   "source": []
  }
 ],
 "metadata": {
  "anaconda-cloud": {},
  "kernelspec": {
   "display_name": "Python [conda root]",
   "language": "python",
   "name": "conda-root-py"
  },
  "language_info": {
   "codemirror_mode": {
    "name": "ipython",
    "version": 3
   },
   "file_extension": ".py",
   "mimetype": "text/x-python",
   "name": "python",
   "nbconvert_exporter": "python",
   "pygments_lexer": "ipython3",
   "version": "3.5.2"
  },
  "nbpresent": {
   "slides": {
    "1eca0f20-aa86-49ad-b568-fe4c57159b8d": {
     "id": "1eca0f20-aa86-49ad-b568-fe4c57159b8d",
     "prev": "2fd319cc-7e28-4143-872b-94ffc580f197",
     "regions": {
      "d6f5142a-4bc3-4048-9aec-95c09021587a": {
       "attrs": {
        "height": 0.8,
        "width": 0.8,
        "x": 0.1,
        "y": 0.1
       },
       "content": {
        "cell": "a401cd36-7551-4f12-8e49-3bd3543c88a2",
        "part": "whole"
       },
       "id": "d6f5142a-4bc3-4048-9aec-95c09021587a"
      },
      "da4d6090-85d7-4fd2-b345-d9da6bb5770e": {
       "attrs": {
        "height": 0.4,
        "width": 0.8,
        "x": 0.1,
        "y": 0.5
       },
       "content": {
        "cell": "46f91b95-ac3d-42fb-a69d-e7ddc6f3cc2c",
        "part": "whole"
       },
       "id": "da4d6090-85d7-4fd2-b345-d9da6bb5770e"
      }
     }
    },
    "2fd319cc-7e28-4143-872b-94ffc580f197": {
     "id": "2fd319cc-7e28-4143-872b-94ffc580f197",
     "prev": "d2fc7ce3-baf0-4a7b-9c82-45923f3ae856",
     "regions": {
      "ca3beba8-dbe9-40bd-a773-f2dccc4cc485": {
       "attrs": {
        "height": 0.8,
        "width": 0.8,
        "x": 0.1,
        "y": 0.1
       },
       "content": {
        "cell": "812c1eae-9b16-4c4f-881a-7baad7222a76",
        "part": "whole"
       },
       "id": "ca3beba8-dbe9-40bd-a773-f2dccc4cc485"
      }
     }
    },
    "7c0edfbb-51cd-4d24-afcb-67edec64da18": {
     "id": "7c0edfbb-51cd-4d24-afcb-67edec64da18",
     "prev": null,
     "regions": {
      "c30b29ac-c359-4b1b-ad02-8b80d006084b": {
       "attrs": {
        "height": 0.8,
        "width": 0.8,
        "x": 0.1,
        "y": 0.1
       },
       "content": {
        "cell": "615a5e20-124d-4dfc-9faf-1d0c86fe0525",
        "part": "whole"
       },
       "id": "c30b29ac-c359-4b1b-ad02-8b80d006084b"
      }
     },
     "theme": null
    },
    "d2fc7ce3-baf0-4a7b-9c82-45923f3ae856": {
     "id": "d2fc7ce3-baf0-4a7b-9c82-45923f3ae856",
     "prev": "7c0edfbb-51cd-4d24-afcb-67edec64da18",
     "regions": {
      "5726db9a-eacb-4639-9724-f876dfb63dca": {
       "attrs": {
        "height": 0.8,
        "width": 0.8,
        "x": 0.1,
        "y": 0.1
       },
       "content": {
        "cell": "c74a83fc-6f9e-40b0-9284-51276d079600",
        "part": "whole"
       },
       "id": "5726db9a-eacb-4639-9724-f876dfb63dca"
      }
     }
    }
   },
   "themes": {
    "default": "d1686a8e-ab58-48a8-8445-78f08e7ea8fb",
    "theme": {
     "1796fda4-5916-4b0f-b19f-0c2320613547": {
      "backgrounds": {
       "dc7afa04-bf90-40b1-82a5-726e3cff5267": {
        "background-color": "31af15d2-7e15-44c5-ab5e-e04b16a89eff",
        "id": "dc7afa04-bf90-40b1-82a5-726e3cff5267"
       }
      },
      "id": "1796fda4-5916-4b0f-b19f-0c2320613547",
      "palette": {
       "19cc588f-0593-49c9-9f4b-e4d7cc113b1c": {
        "id": "19cc588f-0593-49c9-9f4b-e4d7cc113b1c",
        "rgb": [
         252,
         252,
         252
        ]
       },
       "31af15d2-7e15-44c5-ab5e-e04b16a89eff": {
        "id": "31af15d2-7e15-44c5-ab5e-e04b16a89eff",
        "rgb": [
         68,
         68,
         68
        ]
       },
       "50f92c45-a630-455b-aec3-788680ec7410": {
        "id": "50f92c45-a630-455b-aec3-788680ec7410",
        "rgb": [
         197,
         226,
         245
        ]
       },
       "c5cc3653-2ee1-402a-aba2-7caae1da4f6c": {
        "id": "c5cc3653-2ee1-402a-aba2-7caae1da4f6c",
        "rgb": [
         43,
         126,
         184
        ]
       },
       "efa7f048-9acb-414c-8b04-a26811511a21": {
        "id": "efa7f048-9acb-414c-8b04-a26811511a21",
        "rgb": [
         25.118061674008803,
         73.60176211453744,
         107.4819383259912
        ]
       }
      },
      "rules": {
       "a": {
        "color": "19cc588f-0593-49c9-9f4b-e4d7cc113b1c"
       },
       "blockquote": {
        "color": "50f92c45-a630-455b-aec3-788680ec7410",
        "font-size": 3
       },
       "code": {
        "font-family": "Anonymous Pro"
       },
       "h1": {
        "color": "19cc588f-0593-49c9-9f4b-e4d7cc113b1c",
        "font-family": "Merriweather",
        "font-size": 8
       },
       "h2": {
        "color": "19cc588f-0593-49c9-9f4b-e4d7cc113b1c",
        "font-family": "Merriweather",
        "font-size": 6
       },
       "h3": {
        "color": "50f92c45-a630-455b-aec3-788680ec7410",
        "font-family": "Lato",
        "font-size": 5.5
       },
       "h4": {
        "color": "c5cc3653-2ee1-402a-aba2-7caae1da4f6c",
        "font-family": "Lato",
        "font-size": 5
       },
       "h5": {
        "font-family": "Lato"
       },
       "h6": {
        "font-family": "Lato"
       },
       "h7": {
        "font-family": "Lato"
       },
       "li": {
        "color": "50f92c45-a630-455b-aec3-788680ec7410",
        "font-size": 3.25
       },
       "pre": {
        "font-family": "Anonymous Pro",
        "font-size": 4
       }
      },
      "text-base": {
       "color": "19cc588f-0593-49c9-9f4b-e4d7cc113b1c",
       "font-family": "Lato",
       "font-size": 4
      }
     },
     "d1686a8e-ab58-48a8-8445-78f08e7ea8fb": {
      "id": "d1686a8e-ab58-48a8-8445-78f08e7ea8fb",
      "palette": {
       "19cc588f-0593-49c9-9f4b-e4d7cc113b1c": {
        "id": "19cc588f-0593-49c9-9f4b-e4d7cc113b1c",
        "rgb": [
         252,
         252,
         252
        ]
       },
       "31af15d2-7e15-44c5-ab5e-e04b16a89eff": {
        "id": "31af15d2-7e15-44c5-ab5e-e04b16a89eff",
        "rgb": [
         68,
         68,
         68
        ]
       },
       "50f92c45-a630-455b-aec3-788680ec7410": {
        "id": "50f92c45-a630-455b-aec3-788680ec7410",
        "rgb": [
         155,
         177,
         192
        ]
       },
       "c5cc3653-2ee1-402a-aba2-7caae1da4f6c": {
        "id": "c5cc3653-2ee1-402a-aba2-7caae1da4f6c",
        "rgb": [
         43,
         126,
         184
        ]
       },
       "efa7f048-9acb-414c-8b04-a26811511a21": {
        "id": "efa7f048-9acb-414c-8b04-a26811511a21",
        "rgb": [
         25.118061674008803,
         73.60176211453744,
         107.4819383259912
        ]
       }
      },
      "rules": {
       "blockquote": {
        "color": "50f92c45-a630-455b-aec3-788680ec7410"
       },
       "code": {
        "font-family": "Anonymous Pro"
       },
       "h1": {
        "color": "c5cc3653-2ee1-402a-aba2-7caae1da4f6c",
        "font-family": "Lato",
        "font-size": 8
       },
       "h2": {
        "color": "c5cc3653-2ee1-402a-aba2-7caae1da4f6c",
        "font-family": "Lato",
        "font-size": 6
       },
       "h3": {
        "color": "50f92c45-a630-455b-aec3-788680ec7410",
        "font-family": "Lato",
        "font-size": 5.5
       },
       "h4": {
        "color": "c5cc3653-2ee1-402a-aba2-7caae1da4f6c",
        "font-family": "Lato",
        "font-size": 5
       },
       "h5": {
        "font-family": "Lato"
       },
       "h6": {
        "font-family": "Lato"
       },
       "h7": {
        "font-family": "Lato"
       },
       "pre": {
        "font-family": "Anonymous Pro",
        "font-size": 4
       }
      },
      "text-base": {
       "font-family": "Merriweather",
       "font-size": 4
      }
     }
    }
   }
  }
 },
 "nbformat": 4,
 "nbformat_minor": 1
}
